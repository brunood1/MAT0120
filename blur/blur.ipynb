{
 "cells": [
  {
   "cell_type": "code",
   "execution_count": 1,
   "metadata": {},
   "outputs": [],
   "source": [
    "import numpy as np"
   ]
  },
  {
   "cell_type": "code",
   "execution_count": 46,
   "metadata": {},
   "outputs": [],
   "source": [
    "pgm = []\n",
    "\n",
    "with open('ufs.pgm', 'r') as file: \n",
    "    lines = file.readlines()\n",
    "    \n",
    "for line in lines: \n",
    "    if line[0] == \"#\": \n",
    "        continue \n",
    "    elif line[0] == \"P\": \n",
    "        P = line[1] \n",
    "    else:\n",
    "        try:\n",
    "            space = line.index(' ')\n",
    "            l = int(line[0:space])\n",
    "            h = int(line[space+1:])\n",
    "        except:\n",
    "            pgm.append(int(line.strip()))"
   ]
  },
  {
   "cell_type": "code",
   "execution_count": 47,
   "metadata": {},
   "outputs": [],
   "source": [
    "pgm = np.array(pgm[1:])\n",
    "pgm = pgm.reshape((l,h))"
   ]
  },
  {
   "cell_type": "code",
   "execution_count": 48,
   "metadata": {},
   "outputs": [],
   "source": [
    "import math\n",
    "\n",
    "def convolution(A,B,x,y):\n",
    "    s = 0\n",
    "    m = math.floor(len(B)/2)\n",
    "    h = len(B) - m\n",
    "    for i in range(x-m,x+h):\n",
    "        for j in range(y-m,y+h):\n",
    "            if i > 0 and i < len(A) and j > 0 and j < len(A[0]):\n",
    "                I = i - (x-m)\n",
    "                J = j - (y-m)\n",
    "                s += A[i,j]*B[I,J]\n",
    "            \n",
    "    return math.floor(s)"
   ]
  },
  {
   "cell_type": "code",
   "execution_count": 49,
   "metadata": {},
   "outputs": [],
   "source": [
    "blur = pgm\n",
    "\n",
    "gaussian = np.array([ [0.003, 0.013, 0.022, 0.013, 0.003] , [0.013, 0.060, 0.098, 0.060, 0.013] , [0.022, 0.098, 0.162, 0.098, 0.022] , [0.013 , 0.060, 0.098, 0.060, 0.013] , [0.003, 0.013, 0.022, 0.013, 0.003] ])\n",
    "\n",
    "uniform = np.ones((5,5))\n",
    "uniform = uniform/25\n",
    "\n",
    "for i in range(l):\n",
    "    for j in range(h):\n",
    "        blur[i,j] = convolution(pgm, gaussian, i,j)\n",
    "    "
   ]
  },
  {
   "cell_type": "code",
   "execution_count": 50,
   "metadata": {},
   "outputs": [],
   "source": [
    "file_path = \"blur_py.pgm\"\n",
    "\n",
    "with open(file_path, 'w') as file:\n",
    "    file.write(f'P{P}\\n')\n",
    "    file.write(f'{l} {h}\\n255\\n')\n",
    "    for i in range(l):\n",
    "        for j in range(h):\n",
    "            file.write(f\"{int(blur[i,j])}\\n\")\n"
   ]
  }
 ],
 "metadata": {
  "kernelspec": {
   "display_name": "Python 3",
   "language": "python",
   "name": "python3"
  },
  "language_info": {
   "codemirror_mode": {
    "name": "ipython",
    "version": 3
   },
   "file_extension": ".py",
   "mimetype": "text/x-python",
   "name": "python",
   "nbconvert_exporter": "python",
   "pygments_lexer": "ipython3",
   "version": "3.10.11"
  }
 },
 "nbformat": 4,
 "nbformat_minor": 2
}
